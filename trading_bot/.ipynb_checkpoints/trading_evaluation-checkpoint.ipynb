{
 "cells": [
  {
   "cell_type": "code",
   "execution_count": null,
   "metadata": {},
   "outputs": [],
   "source": [
    "import pandas as pd\n",
    "import requests\n",
    "from selenium.common.exceptions import TimeoutException\n",
    "import seaborn as sns\n",
    "import matplotlib.pyplot as plt\n",
    "import numpy as np\n",
    "import json\n",
    "import requests\n",
    "import datetime\n",
    "from trading_bot import *\n",
    "\n",
    "def get_crossovers(reduced_df, col=\"position_15\"): \n",
    "    values = []\n",
    "    signal_columns = [0]  \n",
    "    for i in range(reduced_df.shape[0]-1):\n",
    "        if i == reduced_df.shape[0]:\n",
    "            break\n",
    "        i_1 = reduced_df.index[i]\n",
    "        i_2 =reduced_df.index[i+1]\n",
    "        val_1 = reduced_df[col].loc[i_1].round(2)\n",
    "        val_2 = reduced_df[col].loc[i_2].round(2)\n",
    "        #print(val_1) \n",
    "        #print(val_2)\n",
    "        if np.sign(val_1) == np.sign(val_2):\n",
    "            \n",
    "            signal_columns.append(0)\n",
    "            \n",
    "        else:\n",
    "            values.append(reduced_df.index[i+1])\n",
    "            signal_columns.append(1)\n",
    "            #print(\"CROSSOVER\")\n",
    "            #print(i_1, i_2, val_1, val_2)\n",
    "            #print(\" -\"*10)\n",
    "            \n",
    "    return (values, signal_columns)\n",
    "\n",
    "\n",
    "df = getData()\n",
    "\n"
   ]
  },
  {
   "cell_type": "code",
   "execution_count": null,
   "metadata": {},
   "outputs": [],
   "source": [
    "mymask = ((df[\"datetime\"] > datetime.datetime(year=2018,month=1,day=1)))\n",
    "cols = df.columns.tolist()\n",
    "reduced_df = df[[cols[0],\n",
    "                cols[1],\n",
    "                cols[3],\n",
    "                cols[5],\n",
    "                cols[7],\n",
    "                 cols[-2],\n",
    "                ]].loc[mymask].reset_index(drop=True).set_index(\"datetime\").astype(float\n",
    "                                                                                  )\n",
    "reduced_df.head()\n",
    "\n",
    "#reduced_df.astype(float)[\"4a. close (USD)\"]"
   ]
  },
  {
   "cell_type": "code",
   "execution_count": null,
   "metadata": {},
   "outputs": [],
   "source": [
    "reduced_df['returns'] = np.log(reduced_df[\"4a. close (USD)\"] / reduced_df[\"4a. close (USD)\"].shift(1))\n",
    "\n",
    "cols = []  # 13\n",
    "\n",
    "for momentum in [1, 2, 3 ,4]:  # 14\n",
    "    col = 'position_%s' % momentum  # 15\n",
    "    reduced_df[col] = np.sign(reduced_df['returns'].ewm(momentum).mean())  # 16\n",
    "    cols.append(col)  # 17"
   ]
  },
  {
   "cell_type": "code",
   "execution_count": null,
   "metadata": {},
   "outputs": [],
   "source": [
    "reduced_df.head(1000)"
   ]
  },
  {
   "cell_type": "code",
   "execution_count": null,
   "metadata": {},
   "outputs": [],
   "source": [
    "%matplotlib inline\n",
    "import seaborn as sns; sns.set()  # 18\n",
    "\n",
    "strats = ['returns']  # 19\n",
    "\n",
    "for col in cols:  # 20\n",
    "    strat = 'strategy_%s' % col.split('_')[1]  # 21\n",
    "    reduced_df[strat] = reduced_df[col].shift(1) * reduced_df['returns']  # 22\n",
    "    strats.append(strat)  # 23\n",
    "\n",
    "reduced_df[strats].dropna().cumsum().apply(np.exp).plot(figsize=(22,12))  # 24"
   ]
  },
  {
   "cell_type": "code",
   "execution_count": null,
   "metadata": {},
   "outputs": [],
   "source": [
    "def get_crossovers(reduced_df, col=\"position_30\"): \n",
    "    values = []\n",
    "    signal_columns = [0]  \n",
    "    for i in range(reduced_df.shape[0]-1):\n",
    "        if i == reduced_df.shape[0]:\n",
    "            break\n",
    "        i_1 = reduced_df.index[i]\n",
    "        i_2 =reduced_df.index[i+1]\n",
    "        val_1 = reduced_df[col].loc[i_1].round(2)\n",
    "        val_2 = reduced_df[col].loc[i_2].round(2)\n",
    "        #print(val_1) \n",
    "        #print(val_2)\n",
    "        if np.sign(val_1) == np.sign(val_2):\n",
    "            \n",
    "            signal_columns.append(0)\n",
    "            \n",
    "        else:\n",
    "            values.append(reduced_df.index[i+1])\n",
    "            signal_columns.append(1)\n",
    "            #print(\"CROSSOVER\")\n",
    "            #print(i_1, i_2, val_1, val_2)\n",
    "            #print(\" -\"*10)\n",
    "            \n",
    "    return (values, signal_columns)\n",
    "\n"
   ]
  },
  {
   "cell_type": "code",
   "execution_count": null,
   "metadata": {},
   "outputs": [],
   "source": [
    "reduced_df[\"4a. close (USD)\"].plot(figsize=(22,6))\n",
    "counter = 0\n",
    "for i in get_crossovers(reduced_df, col=\"position_15\")[0]:\n",
    "    plt.axvline(i, c=\"grey\", linewidth=0.83)\n",
    "    plt.axhline(reduced_df[\"4a. close (USD)\"].loc[i], linewidth=0.3)\n",
    "    print(\"%s: \"%counter, reduced_df[\"4a. close (USD)\"].loc[i])\n",
    "    print(\"%s: \"%counter, reduced_df[\"position_15\"].loc[i])\n",
    "    counter = counter+1 "
   ]
  },
  {
   "cell_type": "code",
   "execution_count": null,
   "metadata": {},
   "outputs": [],
   "source": [
    "plt.figure(figsize=(22,6))\n",
    "plt.xticks(rotation=90)\n",
    "sns.barplot(reduced_df[\"position_30\"].index, reduced_df[\"position_30\"], color=\"green\")"
   ]
  },
  {
   "cell_type": "code",
   "execution_count": null,
   "metadata": {},
   "outputs": [],
   "source": []
  },
  {
   "cell_type": "code",
   "execution_count": null,
   "metadata": {},
   "outputs": [],
   "source": []
  },
  {
   "cell_type": "code",
   "execution_count": null,
   "metadata": {},
   "outputs": [],
   "source": []
  }
 ],
 "metadata": {
  "kernelspec": {
   "display_name": "Python 3",
   "language": "python",
   "name": "python3"
  },
  "language_info": {
   "codemirror_mode": {
    "name": "ipython",
    "version": 3
   },
   "file_extension": ".py",
   "mimetype": "text/x-python",
   "name": "python",
   "nbconvert_exporter": "python",
   "pygments_lexer": "ipython3",
   "version": "3.6.5"
  }
 },
 "nbformat": 4,
 "nbformat_minor": 2
}
